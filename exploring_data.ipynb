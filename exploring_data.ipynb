{
 "cells": [
  {
   "cell_type": "markdown",
   "metadata": {},
   "source": [
    "**The data science pipeline process:**\n",
    "- Acquire the data\n",
    "- Prepare and clean data\n",
    "- Explore\n",
    "- Model & Evaluate\n",
    "- Recommendations"
   ]
  },
  {
   "cell_type": "code",
   "execution_count": 2,
   "metadata": {},
   "outputs": [],
   "source": [
    "#Imports\n",
    "import numpy as np\n",
    "import pandas as pd\n",
    "\n",
    "import wrangle\n",
    "import prepare\n",
    "import explore"
   ]
  },
  {
   "cell_type": "markdown",
   "metadata": {},
   "source": [
    "# Acquire"
   ]
  },
  {
   "cell_type": "code",
   "execution_count": 3,
   "metadata": {},
   "outputs": [],
   "source": [
    "# acquire csv\n",
    "df= wrangle.get_survey_data('survey.csv')"
   ]
  },
  {
   "cell_type": "code",
   "execution_count": 4,
   "metadata": {},
   "outputs": [
    {
     "data": {
      "text/html": [
       "<div>\n",
       "<style scoped>\n",
       "    .dataframe tbody tr th:only-of-type {\n",
       "        vertical-align: middle;\n",
       "    }\n",
       "\n",
       "    .dataframe tbody tr th {\n",
       "        vertical-align: top;\n",
       "    }\n",
       "\n",
       "    .dataframe thead th {\n",
       "        text-align: right;\n",
       "    }\n",
       "</style>\n",
       "<table border=\"1\" class=\"dataframe\">\n",
       "  <thead>\n",
       "    <tr style=\"text-align: right;\">\n",
       "      <th></th>\n",
       "      <th>Timestamp</th>\n",
       "      <th>Age</th>\n",
       "      <th>Gender</th>\n",
       "      <th>Country</th>\n",
       "      <th>state</th>\n",
       "      <th>self_employed</th>\n",
       "      <th>family_history</th>\n",
       "      <th>treatment</th>\n",
       "      <th>work_interfere</th>\n",
       "      <th>no_employees</th>\n",
       "      <th>...</th>\n",
       "      <th>leave</th>\n",
       "      <th>mental_health_consequence</th>\n",
       "      <th>phys_health_consequence</th>\n",
       "      <th>coworkers</th>\n",
       "      <th>supervisor</th>\n",
       "      <th>mental_health_interview</th>\n",
       "      <th>phys_health_interview</th>\n",
       "      <th>mental_vs_physical</th>\n",
       "      <th>obs_consequence</th>\n",
       "      <th>comments</th>\n",
       "    </tr>\n",
       "  </thead>\n",
       "  <tbody>\n",
       "    <tr>\n",
       "      <th>0</th>\n",
       "      <td>2014-08-27 11:29:31</td>\n",
       "      <td>37</td>\n",
       "      <td>Female</td>\n",
       "      <td>United States</td>\n",
       "      <td>IL</td>\n",
       "      <td>NaN</td>\n",
       "      <td>No</td>\n",
       "      <td>Yes</td>\n",
       "      <td>Often</td>\n",
       "      <td>6-25</td>\n",
       "      <td>...</td>\n",
       "      <td>Somewhat easy</td>\n",
       "      <td>No</td>\n",
       "      <td>No</td>\n",
       "      <td>Some of them</td>\n",
       "      <td>Yes</td>\n",
       "      <td>No</td>\n",
       "      <td>Maybe</td>\n",
       "      <td>Yes</td>\n",
       "      <td>No</td>\n",
       "      <td>NaN</td>\n",
       "    </tr>\n",
       "    <tr>\n",
       "      <th>1</th>\n",
       "      <td>2014-08-27 11:29:37</td>\n",
       "      <td>44</td>\n",
       "      <td>M</td>\n",
       "      <td>United States</td>\n",
       "      <td>IN</td>\n",
       "      <td>NaN</td>\n",
       "      <td>No</td>\n",
       "      <td>No</td>\n",
       "      <td>Rarely</td>\n",
       "      <td>More than 1000</td>\n",
       "      <td>...</td>\n",
       "      <td>Don't know</td>\n",
       "      <td>Maybe</td>\n",
       "      <td>No</td>\n",
       "      <td>No</td>\n",
       "      <td>No</td>\n",
       "      <td>No</td>\n",
       "      <td>No</td>\n",
       "      <td>Don't know</td>\n",
       "      <td>No</td>\n",
       "      <td>NaN</td>\n",
       "    </tr>\n",
       "    <tr>\n",
       "      <th>2</th>\n",
       "      <td>2014-08-27 11:29:44</td>\n",
       "      <td>32</td>\n",
       "      <td>Male</td>\n",
       "      <td>Canada</td>\n",
       "      <td>NaN</td>\n",
       "      <td>NaN</td>\n",
       "      <td>No</td>\n",
       "      <td>No</td>\n",
       "      <td>Rarely</td>\n",
       "      <td>6-25</td>\n",
       "      <td>...</td>\n",
       "      <td>Somewhat difficult</td>\n",
       "      <td>No</td>\n",
       "      <td>No</td>\n",
       "      <td>Yes</td>\n",
       "      <td>Yes</td>\n",
       "      <td>Yes</td>\n",
       "      <td>Yes</td>\n",
       "      <td>No</td>\n",
       "      <td>No</td>\n",
       "      <td>NaN</td>\n",
       "    </tr>\n",
       "    <tr>\n",
       "      <th>3</th>\n",
       "      <td>2014-08-27 11:29:46</td>\n",
       "      <td>31</td>\n",
       "      <td>Male</td>\n",
       "      <td>United Kingdom</td>\n",
       "      <td>NaN</td>\n",
       "      <td>NaN</td>\n",
       "      <td>Yes</td>\n",
       "      <td>Yes</td>\n",
       "      <td>Often</td>\n",
       "      <td>26-100</td>\n",
       "      <td>...</td>\n",
       "      <td>Somewhat difficult</td>\n",
       "      <td>Yes</td>\n",
       "      <td>Yes</td>\n",
       "      <td>Some of them</td>\n",
       "      <td>No</td>\n",
       "      <td>Maybe</td>\n",
       "      <td>Maybe</td>\n",
       "      <td>No</td>\n",
       "      <td>Yes</td>\n",
       "      <td>NaN</td>\n",
       "    </tr>\n",
       "    <tr>\n",
       "      <th>4</th>\n",
       "      <td>2014-08-27 11:30:22</td>\n",
       "      <td>31</td>\n",
       "      <td>Male</td>\n",
       "      <td>United States</td>\n",
       "      <td>TX</td>\n",
       "      <td>NaN</td>\n",
       "      <td>No</td>\n",
       "      <td>No</td>\n",
       "      <td>Never</td>\n",
       "      <td>100-500</td>\n",
       "      <td>...</td>\n",
       "      <td>Don't know</td>\n",
       "      <td>No</td>\n",
       "      <td>No</td>\n",
       "      <td>Some of them</td>\n",
       "      <td>Yes</td>\n",
       "      <td>Yes</td>\n",
       "      <td>Yes</td>\n",
       "      <td>Don't know</td>\n",
       "      <td>No</td>\n",
       "      <td>NaN</td>\n",
       "    </tr>\n",
       "  </tbody>\n",
       "</table>\n",
       "<p>5 rows × 27 columns</p>\n",
       "</div>"
      ],
      "text/plain": [
       "             Timestamp  Age  Gender         Country state self_employed  \\\n",
       "0  2014-08-27 11:29:31   37  Female   United States    IL           NaN   \n",
       "1  2014-08-27 11:29:37   44       M   United States    IN           NaN   \n",
       "2  2014-08-27 11:29:44   32    Male          Canada   NaN           NaN   \n",
       "3  2014-08-27 11:29:46   31    Male  United Kingdom   NaN           NaN   \n",
       "4  2014-08-27 11:30:22   31    Male   United States    TX           NaN   \n",
       "\n",
       "  family_history treatment work_interfere    no_employees  ...  \\\n",
       "0             No       Yes          Often            6-25  ...   \n",
       "1             No        No         Rarely  More than 1000  ...   \n",
       "2             No        No         Rarely            6-25  ...   \n",
       "3            Yes       Yes          Often          26-100  ...   \n",
       "4             No        No          Never         100-500  ...   \n",
       "\n",
       "                leave mental_health_consequence phys_health_consequence  \\\n",
       "0       Somewhat easy                        No                      No   \n",
       "1          Don't know                     Maybe                      No   \n",
       "2  Somewhat difficult                        No                      No   \n",
       "3  Somewhat difficult                       Yes                     Yes   \n",
       "4          Don't know                        No                      No   \n",
       "\n",
       "      coworkers supervisor mental_health_interview phys_health_interview  \\\n",
       "0  Some of them        Yes                      No                 Maybe   \n",
       "1            No         No                      No                    No   \n",
       "2           Yes        Yes                     Yes                   Yes   \n",
       "3  Some of them         No                   Maybe                 Maybe   \n",
       "4  Some of them        Yes                     Yes                   Yes   \n",
       "\n",
       "  mental_vs_physical obs_consequence comments  \n",
       "0                Yes              No      NaN  \n",
       "1         Don't know              No      NaN  \n",
       "2                 No              No      NaN  \n",
       "3                 No             Yes      NaN  \n",
       "4         Don't know              No      NaN  \n",
       "\n",
       "[5 rows x 27 columns]"
      ]
     },
     "execution_count": 4,
     "metadata": {},
     "output_type": "execute_result"
    }
   ],
   "source": [
    "# Looking at dataframe\n",
    "df.head()"
   ]
  },
  {
   "cell_type": "code",
   "execution_count": 5,
   "metadata": {},
   "outputs": [
    {
     "name": "stdout",
     "output_type": "stream",
     "text": [
      "----------------------------------------------------\n",
      "DataFrame Head\n",
      "             Timestamp  Age  Gender        Country state self_employed  \\\n",
      "0  2014-08-27 11:29:31   37  Female  United States    IL           NaN   \n",
      "1  2014-08-27 11:29:37   44       M  United States    IN           NaN   \n",
      "2  2014-08-27 11:29:44   32    Male         Canada   NaN           NaN   \n",
      "\n",
      "  family_history treatment work_interfere    no_employees  ...  \\\n",
      "0             No       Yes          Often            6-25  ...   \n",
      "1             No        No         Rarely  More than 1000  ...   \n",
      "2             No        No         Rarely            6-25  ...   \n",
      "\n",
      "                leave mental_health_consequence phys_health_consequence  \\\n",
      "0       Somewhat easy                        No                      No   \n",
      "1          Don't know                     Maybe                      No   \n",
      "2  Somewhat difficult                        No                      No   \n",
      "\n",
      "      coworkers supervisor mental_health_interview phys_health_interview  \\\n",
      "0  Some of them        Yes                      No                 Maybe   \n",
      "1            No         No                      No                    No   \n",
      "2           Yes        Yes                     Yes                   Yes   \n",
      "\n",
      "  mental_vs_physical obs_consequence comments  \n",
      "0                Yes              No      NaN  \n",
      "1         Don't know              No      NaN  \n",
      "2                 No              No      NaN  \n",
      "\n",
      "[3 rows x 27 columns]\n",
      "----------------------------------------------------\n",
      "DataFrame Info\n",
      "<class 'pandas.core.frame.DataFrame'>\n",
      "RangeIndex: 1259 entries, 0 to 1258\n",
      "Data columns (total 27 columns):\n",
      " #   Column                     Non-Null Count  Dtype \n",
      "---  ------                     --------------  ----- \n",
      " 0   Timestamp                  1259 non-null   object\n",
      " 1   Age                        1259 non-null   int64 \n",
      " 2   Gender                     1259 non-null   object\n",
      " 3   Country                    1259 non-null   object\n",
      " 4   state                      744 non-null    object\n",
      " 5   self_employed              1241 non-null   object\n",
      " 6   family_history             1259 non-null   object\n",
      " 7   treatment                  1259 non-null   object\n",
      " 8   work_interfere             995 non-null    object\n",
      " 9   no_employees               1259 non-null   object\n",
      " 10  remote_work                1259 non-null   object\n",
      " 11  tech_company               1259 non-null   object\n",
      " 12  benefits                   1259 non-null   object\n",
      " 13  care_options               1259 non-null   object\n",
      " 14  wellness_program           1259 non-null   object\n",
      " 15  seek_help                  1259 non-null   object\n",
      " 16  anonymity                  1259 non-null   object\n",
      " 17  leave                      1259 non-null   object\n",
      " 18  mental_health_consequence  1259 non-null   object\n",
      " 19  phys_health_consequence    1259 non-null   object\n",
      " 20  coworkers                  1259 non-null   object\n",
      " 21  supervisor                 1259 non-null   object\n",
      " 22  mental_health_interview    1259 non-null   object\n",
      " 23  phys_health_interview      1259 non-null   object\n",
      " 24  mental_vs_physical         1259 non-null   object\n",
      " 25  obs_consequence            1259 non-null   object\n",
      " 26  comments                   164 non-null    object\n",
      "dtypes: int64(1), object(26)\n",
      "memory usage: 265.7+ KB\n",
      "None\n",
      "----------------------------------------------------\n",
      "DataFrame Description\n",
      "                Age\n",
      "count  1.259000e+03\n",
      "mean   7.942815e+07\n",
      "std    2.818299e+09\n",
      "min   -1.726000e+03\n",
      "25%    2.700000e+01\n",
      "50%    3.100000e+01\n",
      "75%    3.600000e+01\n",
      "max    1.000000e+11\n",
      "----------------------------------------------------\n",
      "DataFrame Value Counts: \n",
      "2014-08-28 16:52:34    2\n",
      "2014-08-28 09:59:39    2\n",
      "2014-08-28 16:58:33    2\n",
      "2014-08-27 12:37:50    2\n",
      "2014-08-27 15:23:51    2\n",
      "                      ..\n",
      "2014-08-27 14:01:54    1\n",
      "2014-08-29 08:59:40    1\n",
      "2014-08-28 13:47:37    1\n",
      "2014-08-27 19:34:26    1\n",
      "2014-08-27 15:20:53    1\n",
      "Name: Timestamp, Length: 1246, dtype: int64\n",
      "(-100001727.726, 9999998446.5]    1258\n",
      "(9999998446.5, 19999998619.0]        0\n",
      "(19999998619.0, 29999998791.5]       0\n",
      "(29999998791.5, 39999998964.0]       0\n",
      "(39999998964.0, 49999999136.5]       0\n",
      "(49999999136.5, 59999999309.0]       0\n",
      "(59999999309.0, 69999999481.5]       0\n",
      "(69999999481.5, 79999999654.0]       0\n",
      "(79999999654.0, 89999999826.5]       0\n",
      "(89999999826.5, 99999999999.0]       1\n",
      "Name: Age, dtype: int64\n",
      "Male                                              615\n",
      "male                                              206\n",
      "Female                                            121\n",
      "M                                                 116\n",
      "female                                             62\n",
      "F                                                  38\n",
      "m                                                  34\n",
      "f                                                  15\n",
      "Make                                                4\n",
      "Woman                                               3\n",
      "Male                                                3\n",
      "Cis Male                                            2\n",
      "Man                                                 2\n",
      "Female                                              2\n",
      "Female (trans)                                      2\n",
      "Malr                                                1\n",
      "cis male                                            1\n",
      "queer/she/they                                      1\n",
      "p                                                   1\n",
      "Neuter                                              1\n",
      "Mal                                                 1\n",
      "Agender                                             1\n",
      "Cis Man                                             1\n",
      "A little about you                                  1\n",
      "Androgyne                                           1\n",
      "femail                                              1\n",
      "non-binary                                          1\n",
      "male leaning androgynous                            1\n",
      "Female (cis)                                        1\n",
      "All                                                 1\n",
      "Femake                                              1\n",
      "Trans-female                                        1\n",
      "Nah                                                 1\n",
      "Genderqueer                                         1\n",
      "woman                                               1\n",
      "Guy (-ish) ^_^                                      1\n",
      "Male-ish                                            1\n",
      "queer                                               1\n",
      "Enby                                                1\n",
      "Cis Female                                          1\n",
      "Male (CIS)                                          1\n",
      "cis-female/femme                                    1\n",
      "msle                                                1\n",
      "Trans woman                                         1\n",
      "fluid                                               1\n",
      "ostensibly male, unsure what that really means      1\n",
      "Mail                                                1\n",
      "maile                                               1\n",
      "something kinda male?                               1\n",
      "Name: Gender, dtype: int64\n",
      "United States             751\n",
      "United Kingdom            185\n",
      "Canada                     72\n",
      "Germany                    45\n",
      "Netherlands                27\n",
      "Ireland                    27\n",
      "Australia                  21\n",
      "France                     13\n",
      "India                      10\n",
      "New Zealand                 8\n",
      "Switzerland                 7\n",
      "Poland                      7\n",
      "Sweden                      7\n",
      "Italy                       7\n",
      "Belgium                     6\n",
      "South Africa                6\n",
      "Brazil                      6\n",
      "Israel                      5\n",
      "Bulgaria                    4\n",
      "Singapore                   4\n",
      "Austria                     3\n",
      "Russia                      3\n",
      "Finland                     3\n",
      "Mexico                      3\n",
      "Colombia                    2\n",
      "Portugal                    2\n",
      "Croatia                     2\n",
      "Greece                      2\n",
      "Denmark                     2\n",
      "Uruguay                     1\n",
      "Moldova                     1\n",
      "Georgia                     1\n",
      "China                       1\n",
      "Bahamas, The                1\n",
      "Zimbabwe                    1\n",
      "Romania                     1\n",
      "Slovenia                    1\n",
      "Czech Republic              1\n",
      "Latvia                      1\n",
      "Hungary                     1\n",
      "Nigeria                     1\n",
      "Spain                       1\n",
      "Thailand                    1\n",
      "Costa Rica                  1\n",
      "Philippines                 1\n",
      "Bosnia and Herzegovina      1\n",
      "Japan                       1\n",
      "Norway                      1\n",
      "Name: Country, dtype: int64\n",
      "CA    138\n",
      "WA     70\n",
      "NY     57\n",
      "TN     45\n",
      "TX     44\n",
      "OH     30\n",
      "OR     29\n",
      "PA     29\n",
      "IL     29\n",
      "IN     27\n",
      "MI     22\n",
      "MN     21\n",
      "MA     20\n",
      "FL     15\n",
      "VA     14\n",
      "NC     14\n",
      "MO     12\n",
      "GA     12\n",
      "WI     12\n",
      "UT     11\n",
      "CO      9\n",
      "AL      8\n",
      "MD      8\n",
      "AZ      7\n",
      "OK      6\n",
      "NJ      6\n",
      "SC      5\n",
      "KY      5\n",
      "IA      4\n",
      "CT      4\n",
      "DC      4\n",
      "NV      3\n",
      "KS      3\n",
      "SD      3\n",
      "NH      3\n",
      "VT      3\n",
      "NE      2\n",
      "NM      2\n",
      "WY      2\n",
      "MS      1\n",
      "WV      1\n",
      "ME      1\n",
      "LA      1\n",
      "ID      1\n",
      "RI      1\n",
      "Name: state, dtype: int64\n",
      "No     1095\n",
      "Yes     146\n",
      "Name: self_employed, dtype: int64\n",
      "No     767\n",
      "Yes    492\n",
      "Name: family_history, dtype: int64\n",
      "Yes    637\n",
      "No     622\n",
      "Name: treatment, dtype: int64\n",
      "Sometimes    465\n",
      "Never        213\n",
      "Rarely       173\n",
      "Often        144\n",
      "Name: work_interfere, dtype: int64\n",
      "6-25              290\n",
      "26-100            289\n",
      "More than 1000    282\n",
      "100-500           176\n",
      "1-5               162\n",
      "500-1000           60\n",
      "Name: no_employees, dtype: int64\n",
      "No     883\n",
      "Yes    376\n",
      "Name: remote_work, dtype: int64\n",
      "Yes    1031\n",
      "No      228\n",
      "Name: tech_company, dtype: int64\n",
      "Yes           477\n",
      "Don't know    408\n",
      "No            374\n",
      "Name: benefits, dtype: int64\n",
      "No          501\n",
      "Yes         444\n",
      "Not sure    314\n",
      "Name: care_options, dtype: int64\n",
      "No            842\n",
      "Yes           229\n",
      "Don't know    188\n",
      "Name: wellness_program, dtype: int64\n",
      "No            646\n",
      "Don't know    363\n",
      "Yes           250\n",
      "Name: seek_help, dtype: int64\n",
      "Don't know    819\n",
      "Yes           375\n",
      "No             65\n",
      "Name: anonymity, dtype: int64\n",
      "Don't know            563\n",
      "Somewhat easy         266\n",
      "Very easy             206\n",
      "Somewhat difficult    126\n",
      "Very difficult         98\n",
      "Name: leave, dtype: int64\n",
      "No       490\n",
      "Maybe    477\n",
      "Yes      292\n",
      "Name: mental_health_consequence, dtype: int64\n",
      "No       925\n",
      "Maybe    273\n",
      "Yes       61\n",
      "Name: phys_health_consequence, dtype: int64\n",
      "Some of them    774\n",
      "No              260\n",
      "Yes             225\n",
      "Name: coworkers, dtype: int64\n",
      "Yes             516\n",
      "No              393\n",
      "Some of them    350\n",
      "Name: supervisor, dtype: int64\n",
      "No       1008\n",
      "Maybe     207\n",
      "Yes        44\n",
      "Name: mental_health_interview, dtype: int64\n",
      "Maybe    557\n",
      "No       500\n",
      "Yes      202\n",
      "Name: phys_health_interview, dtype: int64\n",
      "Don't know    576\n",
      "Yes           343\n",
      "No            340\n",
      "Name: mental_vs_physical, dtype: int64\n",
      "No     1075\n",
      "Yes     184\n",
      "Name: obs_consequence, dtype: int64\n",
      "* Small family business - YMMV.                                                                                                                                                                              5\n",
      "In Belgium we have all medical care so perhaps some question are not relevant                                                                                                                                1\n",
      "I suffered of panic attacks and agoraphobia for about 10 years.                                                                                                                                              1\n",
      "It's a small startup in a small city in a small country.                                                                                                                                                     1\n",
      "I'm afraid I haven't seen mental health issues arise at work yet. They are very accommodating with maternity leave but I don't know how that translates to anything else.                                    1\n",
      "                                                                                                                                                                                                            ..\n",
      "Many of these questions become irrelevant once 'Yes' is selected for 'Are you self-employed'.  It would be preferable for there to be a 'Not Relevant' option on these.                                      1\n",
      "fwiw I am a co founder of this company and the would you X in an interview questions shouldn't reflect how I would treat anyone addressing their own phys/mental health issue to me in such a situation.     1\n",
      "My employer employs 17k people worldwide and my previous employer only 140 globally both have been very supportive and accommodating with my moderate depression and intense anxiety.                        1\n",
      "I feel that my employer and colleagues have created my mental health issue. Additionally I have contributed to this by staying in the same job with the same employer for 10+ years.                         1\n",
      "I have an exceptional employer. I haven't run into problems with any employer I've had but consider myself lucky.                                                                                            1\n",
      "Name: comments, Length: 160, dtype: int64\n",
      "----------------------------------------------------\n",
      "Nulls in DataFrame by Column: \n",
      "                           num_rows_missing  percent_rows_missing\n",
      "Timestamp                                 0              0.000000\n",
      "Age                                       0              0.000000\n",
      "Gender                                    0              0.000000\n",
      "Country                                   0              0.000000\n",
      "state                                   515             40.905481\n",
      "self_employed                            18              1.429706\n",
      "family_history                            0              0.000000\n",
      "treatment                                 0              0.000000\n",
      "work_interfere                          264             20.969023\n",
      "no_employees                              0              0.000000\n",
      "remote_work                               0              0.000000\n",
      "tech_company                              0              0.000000\n",
      "benefits                                  0              0.000000\n",
      "care_options                              0              0.000000\n",
      "wellness_program                          0              0.000000\n",
      "seek_help                                 0              0.000000\n",
      "anonymity                                 0              0.000000\n",
      "leave                                     0              0.000000\n",
      "mental_health_consequence                 0              0.000000\n",
      "phys_health_consequence                   0              0.000000\n",
      "coworkers                                 0              0.000000\n",
      "supervisor                                0              0.000000\n",
      "mental_health_interview                   0              0.000000\n",
      "phys_health_interview                     0              0.000000\n",
      "mental_vs_physical                        0              0.000000\n",
      "obs_consequence                           0              0.000000\n",
      "comments                               1095             86.973789\n",
      "----------------------------------------------------\n",
      "Nulls in DataFrame by Rows: \n",
      "  num_cols_missing percent_cols_missing  num_rows\n",
      "0                0                  0.0        86\n",
      "1                1   3.7037037037037033       577\n",
      "2                2   7.4074074074074066       473\n",
      "3                3    11.11111111111111       123\n",
      "----------------------------------------------------\n"
     ]
    },
    {
     "data": {
      "image/png": "[encoded data removed]",
      "text/plain": [
       "<Figure size 432x288 with 1 Axes>"
      ]
     },
     "metadata": {
      "needs_background": "light"
     },
     "output_type": "display_data"
    }
   ],
   "source": [
    "#overview of the data\n",
    "wrangle.summarize(df)"
   ]
  },
  {
   "cell_type": "markdown",
   "metadata": {},
   "source": [
    "# Prepare"
   ]
  },
  {
   "cell_type": "code",
   "execution_count": 6,
   "metadata": {},
   "outputs": [],
   "source": [
    "# prepping strings\n",
    "df= wrangle.prep_the_strings(df)"
   ]
  },
  {
   "cell_type": "code",
   "execution_count": 7,
   "metadata": {},
   "outputs": [],
   "source": [
    "# encoding variables\n",
    "df= wrangle.prep_encode(df)"
   ]
  },
  {
   "cell_type": "code",
   "execution_count": 11,
   "metadata": {},
   "outputs": [
    {
     "data": {
      "text/html": [
       "<div>\n",
       "<style scoped>\n",
       "    .dataframe tbody tr th:only-of-type {\n",
       "        vertical-align: middle;\n",
       "    }\n",
       "\n",
       "    .dataframe tbody tr th {\n",
       "        vertical-align: top;\n",
       "    }\n",
       "\n",
       "    .dataframe thead th {\n",
       "        text-align: right;\n",
       "    }\n",
       "</style>\n",
       "<table border=\"1\" class=\"dataframe\">\n",
       "  <thead>\n",
       "    <tr style=\"text-align: right;\">\n",
       "      <th></th>\n",
       "      <th>0</th>\n",
       "      <th>1</th>\n",
       "      <th>2</th>\n",
       "      <th>4</th>\n",
       "      <th>5</th>\n",
       "    </tr>\n",
       "  </thead>\n",
       "  <tbody>\n",
       "    <tr>\n",
       "      <th>timestamp</th>\n",
       "      <td>2014-08-27 11:29:31</td>\n",
       "      <td>2014-08-27 11:29:37</td>\n",
       "      <td>2014-08-27 11:29:44</td>\n",
       "      <td>2014-08-27 11:30:22</td>\n",
       "      <td>2014-08-27 11:31:22</td>\n",
       "    </tr>\n",
       "    <tr>\n",
       "      <th>age</th>\n",
       "      <td>37</td>\n",
       "      <td>44</td>\n",
       "      <td>32</td>\n",
       "      <td>31</td>\n",
       "      <td>33</td>\n",
       "    </tr>\n",
       "    <tr>\n",
       "      <th>gender</th>\n",
       "      <td>1</td>\n",
       "      <td>0</td>\n",
       "      <td>0</td>\n",
       "      <td>0</td>\n",
       "      <td>0</td>\n",
       "    </tr>\n",
       "    <tr>\n",
       "      <th>country</th>\n",
       "      <td>United States</td>\n",
       "      <td>United States</td>\n",
       "      <td>Canada</td>\n",
       "      <td>United States</td>\n",
       "      <td>United States</td>\n",
       "    </tr>\n",
       "    <tr>\n",
       "      <th>self_employed</th>\n",
       "      <td>0</td>\n",
       "      <td>0</td>\n",
       "      <td>0</td>\n",
       "      <td>0</td>\n",
       "      <td>0</td>\n",
       "    </tr>\n",
       "    <tr>\n",
       "      <th>family_history</th>\n",
       "      <td>0</td>\n",
       "      <td>0</td>\n",
       "      <td>0</td>\n",
       "      <td>0</td>\n",
       "      <td>1</td>\n",
       "    </tr>\n",
       "    <tr>\n",
       "      <th>treatment</th>\n",
       "      <td>1</td>\n",
       "      <td>0</td>\n",
       "      <td>0</td>\n",
       "      <td>0</td>\n",
       "      <td>0</td>\n",
       "    </tr>\n",
       "    <tr>\n",
       "      <th>work_interfere</th>\n",
       "      <td>1</td>\n",
       "      <td>1</td>\n",
       "      <td>1</td>\n",
       "      <td>0</td>\n",
       "      <td>1</td>\n",
       "    </tr>\n",
       "    <tr>\n",
       "      <th>company_size</th>\n",
       "      <td>1</td>\n",
       "      <td>5</td>\n",
       "      <td>1</td>\n",
       "      <td>3</td>\n",
       "      <td>1</td>\n",
       "    </tr>\n",
       "    <tr>\n",
       "      <th>remote_work</th>\n",
       "      <td>0</td>\n",
       "      <td>0</td>\n",
       "      <td>0</td>\n",
       "      <td>1</td>\n",
       "      <td>0</td>\n",
       "    </tr>\n",
       "    <tr>\n",
       "      <th>tech_company</th>\n",
       "      <td>1</td>\n",
       "      <td>0</td>\n",
       "      <td>1</td>\n",
       "      <td>1</td>\n",
       "      <td>1</td>\n",
       "    </tr>\n",
       "    <tr>\n",
       "      <th>benefits</th>\n",
       "      <td>1</td>\n",
       "      <td>2</td>\n",
       "      <td>0</td>\n",
       "      <td>1</td>\n",
       "      <td>1</td>\n",
       "    </tr>\n",
       "    <tr>\n",
       "      <th>care_options</th>\n",
       "      <td>2</td>\n",
       "      <td>0</td>\n",
       "      <td>0</td>\n",
       "      <td>0</td>\n",
       "      <td>2</td>\n",
       "    </tr>\n",
       "    <tr>\n",
       "      <th>wellness_program</th>\n",
       "      <td>0</td>\n",
       "      <td>2</td>\n",
       "      <td>0</td>\n",
       "      <td>2</td>\n",
       "      <td>0</td>\n",
       "    </tr>\n",
       "    <tr>\n",
       "      <th>seek_help</th>\n",
       "      <td>1</td>\n",
       "      <td>2</td>\n",
       "      <td>0</td>\n",
       "      <td>2</td>\n",
       "      <td>2</td>\n",
       "    </tr>\n",
       "    <tr>\n",
       "      <th>anonymity</th>\n",
       "      <td>1</td>\n",
       "      <td>2</td>\n",
       "      <td>2</td>\n",
       "      <td>2</td>\n",
       "      <td>2</td>\n",
       "    </tr>\n",
       "    <tr>\n",
       "      <th>leave</th>\n",
       "      <td>3</td>\n",
       "      <td>2</td>\n",
       "      <td>1</td>\n",
       "      <td>2</td>\n",
       "      <td>2</td>\n",
       "    </tr>\n",
       "    <tr>\n",
       "      <th>mental_health_consequence</th>\n",
       "      <td>0</td>\n",
       "      <td>2</td>\n",
       "      <td>0</td>\n",
       "      <td>0</td>\n",
       "      <td>0</td>\n",
       "    </tr>\n",
       "    <tr>\n",
       "      <th>phys_health_consequence</th>\n",
       "      <td>0</td>\n",
       "      <td>0</td>\n",
       "      <td>0</td>\n",
       "      <td>0</td>\n",
       "      <td>0</td>\n",
       "    </tr>\n",
       "    <tr>\n",
       "      <th>coworkers</th>\n",
       "      <td>2</td>\n",
       "      <td>0</td>\n",
       "      <td>1</td>\n",
       "      <td>2</td>\n",
       "      <td>1</td>\n",
       "    </tr>\n",
       "    <tr>\n",
       "      <th>supervisor</th>\n",
       "      <td>1</td>\n",
       "      <td>0</td>\n",
       "      <td>1</td>\n",
       "      <td>1</td>\n",
       "      <td>1</td>\n",
       "    </tr>\n",
       "    <tr>\n",
       "      <th>mental_health_interview</th>\n",
       "      <td>0</td>\n",
       "      <td>0</td>\n",
       "      <td>1</td>\n",
       "      <td>1</td>\n",
       "      <td>0</td>\n",
       "    </tr>\n",
       "    <tr>\n",
       "      <th>phys_health_interview</th>\n",
       "      <td>2</td>\n",
       "      <td>0</td>\n",
       "      <td>1</td>\n",
       "      <td>1</td>\n",
       "      <td>2</td>\n",
       "    </tr>\n",
       "    <tr>\n",
       "      <th>mental_vs_physical</th>\n",
       "      <td>1</td>\n",
       "      <td>2</td>\n",
       "      <td>0</td>\n",
       "      <td>2</td>\n",
       "      <td>2</td>\n",
       "    </tr>\n",
       "    <tr>\n",
       "      <th>obs_consequence</th>\n",
       "      <td>0</td>\n",
       "      <td>0</td>\n",
       "      <td>0</td>\n",
       "      <td>0</td>\n",
       "      <td>0</td>\n",
       "    </tr>\n",
       "  </tbody>\n",
       "</table>\n",
       "</div>"
      ],
      "text/plain": [
       "                                             0                    1  \\\n",
       "timestamp                  2014-08-27 11:29:31  2014-08-27 11:29:37   \n",
       "age                                         37                   44   \n",
       "gender                                       1                    0   \n",
       "country                          United States        United States   \n",
       "self_employed                                0                    0   \n",
       "family_history                               0                    0   \n",
       "treatment                                    1                    0   \n",
       "work_interfere                               1                    1   \n",
       "company_size                                 1                    5   \n",
       "remote_work                                  0                    0   \n",
       "tech_company                                 1                    0   \n",
       "benefits                                     1                    2   \n",
       "care_options                                 2                    0   \n",
       "wellness_program                             0                    2   \n",
       "seek_help                                    1                    2   \n",
       "anonymity                                    1                    2   \n",
       "leave                                        3                    2   \n",
       "mental_health_consequence                    0                    2   \n",
       "phys_health_consequence                      0                    0   \n",
       "coworkers                                    2                    0   \n",
       "supervisor                                   1                    0   \n",
       "mental_health_interview                      0                    0   \n",
       "phys_health_interview                        2                    0   \n",
       "mental_vs_physical                           1                    2   \n",
       "obs_consequence                              0                    0   \n",
       "\n",
       "                                             2                    4  \\\n",
       "timestamp                  2014-08-27 11:29:44  2014-08-27 11:30:22   \n",
       "age                                         32                   31   \n",
       "gender                                       0                    0   \n",
       "country                                 Canada        United States   \n",
       "self_employed                                0                    0   \n",
       "family_history                               0                    0   \n",
       "treatment                                    0                    0   \n",
       "work_interfere                               1                    0   \n",
       "company_size                                 1                    3   \n",
       "remote_work                                  0                    1   \n",
       "tech_company                                 1                    1   \n",
       "benefits                                     0                    1   \n",
       "care_options                                 0                    0   \n",
       "wellness_program                             0                    2   \n",
       "seek_help                                    0                    2   \n",
       "anonymity                                    2                    2   \n",
       "leave                                        1                    2   \n",
       "mental_health_consequence                    0                    0   \n",
       "phys_health_consequence                      0                    0   \n",
       "coworkers                                    1                    2   \n",
       "supervisor                                   1                    1   \n",
       "mental_health_interview                      1                    1   \n",
       "phys_health_interview                        1                    1   \n",
       "mental_vs_physical                           0                    2   \n",
       "obs_consequence                              0                    0   \n",
       "\n",
       "                                             5  \n",
       "timestamp                  2014-08-27 11:31:22  \n",
       "age                                         33  \n",
       "gender                                       0  \n",
       "country                          United States  \n",
       "self_employed                                0  \n",
       "family_history                               1  \n",
       "treatment                                    0  \n",
       "work_interfere                               1  \n",
       "company_size                                 1  \n",
       "remote_work                                  0  \n",
       "tech_company                                 1  \n",
       "benefits                                     1  \n",
       "care_options                                 2  \n",
       "wellness_program                             0  \n",
       "seek_help                                    2  \n",
       "anonymity                                    2  \n",
       "leave                                        2  \n",
       "mental_health_consequence                    0  \n",
       "phys_health_consequence                      0  \n",
       "coworkers                                    1  \n",
       "supervisor                                   1  \n",
       "mental_health_interview                      0  \n",
       "phys_health_interview                        2  \n",
       "mental_vs_physical                           2  \n",
       "obs_consequence                              0  "
      ]
     },
     "execution_count": 11,
     "metadata": {},
     "output_type": "execute_result"
    }
   ],
   "source": [
    "#Looking at values (verify encoding was done)\n",
    "df.head().T"
   ]
  },
  {
   "cell_type": "markdown",
   "metadata": {},
   "source": [
    "# Exploration"
   ]
  },
  {
   "cell_type": "code",
   "execution_count": 12,
   "metadata": {},
   "outputs": [],
   "source": [
    "#Split data for exploration\n",
    "train, validate, test= explore.three_split(df, 'work_interfere')"
   ]
  },
  {
   "cell_type": "code",
   "execution_count": 13,
   "metadata": {},
   "outputs": [
    {
     "data": {
      "text/plain": [
       "((535, 25), (230, 25), (192, 25))"
      ]
     },
     "execution_count": 13,
     "metadata": {},
     "output_type": "execute_result"
    }
   ],
   "source": [
    "#Looking at shape for each dataset\n",
    "train.shape, validate.shape, test.shape"
   ]
  },
  {
   "cell_type": "markdown",
   "metadata": {},
   "source": [
    "## Univariate"
   ]
  },
  {
   "cell_type": "code",
   "execution_count": 14,
   "metadata": {},
   "outputs": [
    {
     "data": {
      "image/png": "[encoded data removed]",
      "text/plain": [
       "<Figure size 288x288 with 1 Axes>"
      ]
     },
     "metadata": {
      "needs_background": "light"
     },
     "output_type": "display_data"
    },
    {
     "data": {
      "image/png": "[encoded data removed]",
      "text/plain": [
       "<Figure size 288x288 with 1 Axes>"
      ]
     },
     "metadata": {
      "needs_background": "light"
     },
     "output_type": "display_data"
    },
    {
     "data": {
      "image/png": "[encoded data removed]",
      "text/plain": [
       "<Figure size 288x288 with 1 Axes>"
      ]
     },
     "metadata": {
      "needs_background": "light"
     },
     "output_type": "display_data"
    },
    {
     "data": {
      "image/png": "[encoded data removed]",
      "text/plain": [
       "<Figure size 288x288 with 1 Axes>"
      ]
     },
     "metadata": {
      "needs_background": "light"
     },
     "output_type": "display_data"
    },
    {
     "data": {
      "image/png": "[encoded data removed]",
      "text/plain": [
       "<Figure size 288x288 with 1 Axes>"
      ]
     },
     "metadata": {
      "needs_background": "light"
     },
     "output_type": "display_data"
    },
    {
     "data": {
      "image/png": "[encoded data removed]",
      "text/plain": [
       "<Figure size 288x288 with 1 Axes>"
      ]
     },
     "metadata": {
      "needs_background": "light"
     },
     "output_type": "display_data"
    },
    {
     "data": {
      "image/png": "[encoded data removed]",
      "text/plain": [
       "<Figure size 288x288 with 1 Axes>"
      ]
     },
     "metadata": {
      "needs_background": "light"
     },
     "output_type": "display_data"
    },
    {
     "data": {
      "image/png": "[encoded data removed]",
      "text/plain": [
       "<Figure size 288x288 with 1 Axes>"
      ]
     },
     "metadata": {
      "needs_background": "light"
     },
     "output_type": "display_data"
    },
    {
     "data": {
      "image/png": "[encoded data removed]",
      "text/plain": [
       "<Figure size 288x288 with 1 Axes>"
      ]
     },
     "metadata": {
      "needs_background": "light"
     },
     "output_type": "display_data"
    },
    {
     "data": {
      "image/png": "[encoded data removed]",
      "text/plain": [
       "<Figure size 288x288 with 1 Axes>"
      ]
     },
     "metadata": {
      "needs_background": "light"
     },
     "output_type": "display_data"
    },
    {
     "data": {
      "image/png": "[encoded data removed]",
      "text/plain": [
       "<Figure size 288x288 with 1 Axes>"
      ]
     },
     "metadata": {
      "needs_background": "light"
     },
     "output_type": "display_data"
    },
    {
     "data": {
      "image/png": "[encoded data removed]",
      "text/plain": [
       "<Figure size 288x288 with 1 Axes>"
      ]
     },
     "metadata": {
      "needs_background": "light"
     },
     "output_type": "display_data"
    },
    {
     "data": {
      "image/png": "[encoded data removed]",
      "text/plain": [
       "<Figure size 288x288 with 1 Axes>"
      ]
     },
     "metadata": {
      "needs_background": "light"
     },
     "output_type": "display_data"
    },
    {
     "data": {
      "image/png": "[encoded data removed]",
      "text/plain": [
       "<Figure size 288x288 with 1 Axes>"
      ]
     },
     "metadata": {
      "needs_background": "light"
     },
     "output_type": "display_data"
    },
    {
     "data": {
      "image/png": "[encoded data removed]",
      "text/plain": [
       "<Figure size 288x288 with 1 Axes>"
      ]
     },
     "metadata": {
      "needs_background": "light"
     },
     "output_type": "display_data"
    },
    {
     "data": {
      "image/png": "[encoded data removed]",
      "text/plain": [
       "<Figure size 288x288 with 1 Axes>"
      ]
     },
     "metadata": {
      "needs_background": "light"
     },
     "output_type": "display_data"
    },
    {
     "data": {
      "image/png": "[encoded data removed]",
      "text/plain": [
       "<Figure size 288x288 with 1 Axes>"
      ]
     },
     "metadata": {
      "needs_background": "light"
     },
     "output_type": "display_data"
    },
    {
     "data": {
      "image/png": "[encoded data removed]",
      "text/plain": [
       "<Figure size 288x288 with 1 Axes>"
      ]
     },
     "metadata": {
      "needs_background": "light"
     },
     "output_type": "display_data"
    },
    {
     "data": {
      "image/png": "[encoded data removed]",
      "text/plain": [
       "<Figure size 288x288 with 1 Axes>"
      ]
     },
     "metadata": {
      "needs_background": "light"
     },
     "output_type": "display_data"
    },
    {
     "data": {
      "image/png": "[encoded data removed]",
      "text/plain": [
       "<Figure size 288x288 with 1 Axes>"
      ]
     },
     "metadata": {
      "needs_background": "light"
     },
     "output_type": "display_data"
    },
    {
     "data": {
      "image/png": "[encoded data removed]",
      "text/plain": [
       "<Figure size 288x288 with 1 Axes>"
      ]
     },
     "metadata": {
      "needs_background": "light"
     },
     "output_type": "display_data"
    },
    {
     "data": {
      "image/png": "[encoded data removed]",
      "text/plain": [
       "<Figure size 288x288 with 1 Axes>"
      ]
     },
     "metadata": {
      "needs_background": "light"
     },
     "output_type": "display_data"
    },
    {
     "data": {
      "image/png": "[encoded data removed]",
      "text/plain": [
       "<Figure size 864x288 with 2 Axes>"
      ]
     },
     "metadata": {
      "needs_background": "light"
     },
     "output_type": "display_data"
    }
   ],
   "source": [
    "explore.mental_health_univariate(train)"
   ]
  },
  {
   "cell_type": "code",
   "execution_count": null,
   "metadata": {},
   "outputs": [],
   "source": [
    "# Hypothesis Testing"
   ]
  },
  {
   "cell_type": "code",
   "execution_count": null,
   "metadata": {},
   "outputs": [],
   "source": []
  },
  {
   "cell_type": "code",
   "execution_count": null,
   "metadata": {},
   "outputs": [],
   "source": []
  },
  {
   "cell_type": "code",
   "execution_count": null,
   "metadata": {},
   "outputs": [],
   "source": []
  }
 ],
 "metadata": {
  "kernelspec": {
   "display_name": "Python 3",
   "language": "python",
   "name": "python3"
  },
  "language_info": {
   "codemirror_mode": {
    "name": "ipython",
    "version": 3
   },
   "file_extension": ".py",
   "mimetype": "text/x-python",
   "name": "python",
   "nbconvert_exporter": "python",
   "pygments_lexer": "ipython3",
   "version": "3.8.5"
  }
 },
 "nbformat": 4,
 "nbformat_minor": 4
}
